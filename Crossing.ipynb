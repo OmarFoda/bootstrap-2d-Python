{
 "metadata": {
  "name": "",
  "signature": "sha256:7216df9cc83daf6d3942a51d51ad0c54b263f293fd152d91d7b59034376cfc9e"
 },
 "nbformat": 3,
 "nbformat_minor": 0,
 "worksheets": [
  {
   "cells": [
    {
     "cell_type": "code",
     "collapsed": false,
     "input": [
      "from Correlators import *\n",
      "from CFT import *\n",
      "from Data import *\n",
      "import matplotlib.pyplot as plt"
     ],
     "language": "python",
     "metadata": {},
     "outputs": []
    },
    {
     "cell_type": "heading",
     "level": 1,
     "metadata": {},
     "source": [
      "Crossing symmetry tests"
     ]
    },
    {
     "cell_type": "markdown",
     "metadata": {},
     "source": [
      "We test crossing symmetry of four-point functions in various CFTs. "
     ]
    },
    {
     "cell_type": "heading",
     "level": 2,
     "metadata": {},
     "source": [
      "Liouville theory\n"
     ]
    },
    {
     "cell_type": "code",
     "collapsed": false,
     "input": [
      "\"\"\" Let us see how the Liouville four-point function depends on the number of spline points. \n",
      "With about 5000 points we get more than 10 significant digits. \n",
      "\"\"\"\n",
      "\n",
      "fourPoint = FourPoint()   \n",
      "q = 0.02\n",
      "Sps = [10*2**i for i in range(7)]\n",
      "print fourPoint.value(q)  \n",
      "for Sp in Sps:\n",
      "    fourPoint = FourPoint(spline = Sp)\n",
      "    print Sp, fourPoint.value(q)       "
     ],
     "language": "python",
     "metadata": {},
     "outputs": []
    },
    {
     "cell_type": "code",
     "collapsed": false,
     "input": [
      "\"\"\" We check crossing symmetry of the Liouville four-point function, and how it improves as a \n",
      "function of the order N of the block's expansion. Curiously, the agreement can be better\n",
      "at order 2N than at order 2N+1. This might be linked to the observation that if \n",
      "all Ps are equal, then the result at the order 2N+1 is the same as at the order 2N, \n",
      "because contributions at the order 2N+1 vanish due to the factor\n",
      "(delta_1-delta_2)(delta_3-delta_4) . Also, in our example the agreement is better for N=12\n",
      "than for N=14: maybe the limiting factors are now the integration cutoffs.\n",
      "\"\"\"\n",
      "\n",
      "q0 = 0.0432139182637723   # self-dual value\n",
      "q = 0.02030020257575147+0.015709898798585555*1j\n",
      "#b = math.sqrt(2) - 1j\n",
      "b = cmath.exp(1j)\n",
      "Ps = [.7, 1.37, -1.5, .17]\n",
      "Pcutoff = 4\n",
      "Nmax = 10\n",
      "spline = 200\n",
      "fourPoint = FourPoint(Ps = Ps, b = b, Nmax = 1, Pcutoff = Pcutoff, spline = spline)\n",
      "fourPoint_t = FourPoint(t_channel = True, Ps = Ps, b = b, Nmax = 1, Pcutoff = Pcutoff, spline = spline)\n",
      "for N in range(1, Nmax+1):\n",
      "    fourPoint.computeBlock(N)\n",
      "    fourPoint_t.computeBlock(N)       \n",
      "    val = fourPoint.value(q)\n",
      "    val_t = fourPoint_t.value(q)\n",
      "    print N, abs(1 - val/val_t), val, val_t    "
     ],
     "language": "python",
     "metadata": {},
     "outputs": []
    },
    {
     "cell_type": "code",
     "collapsed": false,
     "input": [
      "\"\"\" We plot the Liouville four-point function's dependence on x in both channels. \n",
      "With N = 30 values of x, using Nmax = 10 and Pcutoff = 4, this takes \n",
      "25s with spline = 100 and 148s with spline = 0.\n",
      "\"\"\"     \n",
      "\n",
      "N = 50\n",
      "Nmax = 8\n",
      "b = math.sqrt(2) - 1j\n",
      "# b = math.sqrt(2) - 1 \n",
      "# Ps = [.7, 1.37, -1.5, .17]\n",
      "Ps = [-.9, 1.9, -.1, 2]\n",
      "# Ps = [.1, -.2, -.4, -.6]\n",
      "Pcutoff = 8 \n",
      "spline = 200\n",
      "\n",
      "import time\n",
      "time0 = time.clock()\n",
      "\n",
      "xmin = 1e-4 + .1*1j\n",
      "xmax = 1-1e-4\n",
      "xs = [xmin + (xmax - xmin)*i/N for i in range(N+1)]\n",
      "qs = [complex(mpmath.qfrom(m = x)) for x in xs]    \n",
      "vals = []\n",
      "vals_t = []\n",
      "for n in range(4, 9):                    \n",
      "    fourPoint = FourPoint(Ps = Ps, b = b, Nmax = n, Pcutoff = Pcutoff, spline = spline, reduced = True)\n",
      "    # fourPoint_t = FourPoint(t_channel = True, Ps = Ps, b = b, Nmax = n, Pcutoff = Pcutoff, spline = spline, reduced = True)  \n",
      "    vals.append([fourPoint.value(q) for q in qs])\n",
      "    # vals_t.append([fourPoint_t.value(q) for q in qs])\n",
      "# exps = [.5, 1, 1.3, 1.5, 1.7]\n",
      "# vals2 = [[vals[i] * abs(math.log(xs[i]))**(expon) for i in range(len(xs))] for expon in exps]   \n",
      "time1 = time.clock()\n",
      "print time1 - time0\n",
      "import matplotlib.pyplot as plt\n",
      "for n in range(len(vals)):\n",
      "    plt.plot(xs, vals[n])\n",
      "    # plt.plot(xs, vals_t[n])\n",
      "plt.show()"
     ],
     "language": "python",
     "metadata": {},
     "outputs": []
    },
    {
     "cell_type": "heading",
     "level": 2,
     "metadata": {},
     "source": [
      "Generalized Minimal Models"
     ]
    },
    {
     "cell_type": "code",
     "collapsed": false,
     "input": [
      "\"\"\" Checking an Ising model three-point structure constant. Beware that we do not \n",
      "really control the value of b which is produced by Charge('c', .5), and inverting b \n",
      "corresponds to exchanging the parameters (r, s). \n",
      "\"\"\"\n",
      "\n",
      "charge = Charge('c', .5)\n",
      "fields = [Dimension('degenerate', [1, 2], charge), \n",
      "          Dimension('degenerate', [1, 2], charge), \n",
      "          Dimension('degenerate', [1, 3], charge)]\n",
      "\n",
      "threePoint = GMM3(fields, True)\n",
      "print threePoint.value\n",
      "print threePoint.canFuse"
     ],
     "language": "python",
     "metadata": {},
     "outputs": []
    },
    {
     "cell_type": "code",
     "collapsed": false,
     "input": [
      "\"\"\" Checking crossing symmetry in Generalized Minimal Models. \"\"\"\n",
      "\n",
      "q0 = 0.0432139182637723   # self-dual value\n",
      "q = 0.035 + .01*1j\n",
      "N = 16\n",
      "charge = Charge('b', .6 + .7 * 1j)\n",
      "fields = [Dimension('degenerate', [2, 5], charge),\n",
      "          Dimension('degenerate', [3, 4], charge),\n",
      "          Dimension('degenerate', [3, 3], charge),\n",
      "          Dimension('degenerate', [4, 2], charge)]\n",
      "for N in range(10, 10, 2):\n",
      "    print N\n",
      "    fourPoint = GMM4(False, fields, N)\n",
      "    fourPoint_t = GMM4(True, fields, N)\n",
      "    print fourPoint.getFields() , fourPoint.value(q) \n",
      "    print fourPoint_t.getFields() , fourPoint_t.value(q)\n",
      "\n",
      "for s in range(1, 5):\n",
      "    print s\n",
      "    field = Dimension('degenerate', [1, s], charge)\n",
      "    fields = [field, field, field, field]\n",
      "    fourPoint = GMM4(False, fields, N)\n",
      "    fourPoint_t = GMM4(True, fields, N)\n",
      "    print fourPoint.value(q) \n",
      "    print fourPoint_t.value(q)"
     ],
     "language": "python",
     "metadata": {},
     "outputs": []
    },
    {
     "cell_type": "heading",
     "level": 2,
     "metadata": {},
     "source": [
      "CFT with $c<1$"
     ]
    },
    {
     "cell_type": "code",
     "collapsed": false,
     "input": [
      "\"\"\" We check that the four-point function does not depend on the shift epsilon of the integration line. \n",
      "This should be automatic as long as the shift keeps the same sign, but is far less trivial when epsilon \n",
      "changes sign. It is not necessary to use high values of Ucutoff to see this, as the approximated\n",
      "integrand is analytic in P, and the result should therefore be independent from epsilon so long \n",
      "Pcutoff is large enough.\n",
      "\"\"\"\n",
      "\n",
      "Ps = [.7, 1.37, -1.5, .17 + .05* 1j]\n",
      "epsilons = [-.5 + i*.2 for i in range(6)]\n",
      "for epsilon in epsilons:\n",
      "    fourPoint = Z4(Ps = Ps, epsilon = epsilon, Ucutoff = 6)\n",
      "    print epsilon, fourPoint.value()"
     ],
     "language": "python",
     "metadata": {},
     "outputs": []
    },
    {
     "cell_type": "code",
     "collapsed": false,
     "input": [
      "\"\"\" We check crossing symmetry of the four-point function in a particular case. \"\"\"\n",
      "\n",
      "Ps = [.7, 1.37, -1.5, .17]\n",
      "\n",
      "def test(Ucutoff, Nmax): \n",
      "    import time\n",
      "    time0 = time.clock()\n",
      "    val = Z4(Ps = Ps, Ucutoff = Ucutoff, Nmax = Nmax).value()\n",
      "    val_t = Z4(t_channel = True, Ps = Ps, Ucutoff = Ucutoff, Nmax = Nmax).value()\n",
      "    time = time.clock() - time0\n",
      "    print \"Upsilon cutoff:\", Ucutoff, \", Block level:\", Nmax, \", Precision:\", abs((val - val_t) / val), \", time:\", time\n",
      "      "
     ],
     "language": "python",
     "metadata": {},
     "outputs": []
    },
    {
     "cell_type": "code",
     "collapsed": false,
     "input": [
      "test(20, 4)\n",
      "test(40, 4)\n",
      "test(80, 4)"
     ],
     "language": "python",
     "metadata": {},
     "outputs": []
    },
    {
     "cell_type": "code",
     "collapsed": false,
     "input": [
      "test(40, 6)\n",
      "test(80, 6)\n",
      "test(160, 6)"
     ],
     "language": "python",
     "metadata": {},
     "outputs": []
    },
    {
     "cell_type": "code",
     "collapsed": false,
     "input": [
      "test(80, 8)\n",
      "test(160, 8)\n",
      "test(320, 8)"
     ],
     "language": "python",
     "metadata": {},
     "outputs": []
    },
    {
     "cell_type": "code",
     "collapsed": false,
     "input": [
      "\"\"\" We check crossing symmetry of the four-point function in another particular case. \"\"\"\n",
      "\n",
      "Ps = [1/4.37, 1/11.73, 1/3.81, 1/12.46]\n",
      "\n",
      "def test(Ucutoff, Nmax, beta, q): \n",
      "    import time\n",
      "    time0 = time.clock()\n",
      "    val = Z4(Ps = Ps, Ucutoff = Ucutoff, Nmax = Nmax, beta = beta).value(q)\n",
      "    val_spline = Z4(Ps = Ps, Ucutoff = Ucutoff, Nmax = Nmax, beta = beta, spline = 100).value(q)\n",
      "    val_t = Z4(t_channel = True, Ps = Ps, Ucutoff = Ucutoff, Nmax = Nmax, beta = beta).value(q)\n",
      "    time = time.clock() - time0\n",
      "    print \"Upsilon cutoff:\", Ucutoff, \", Block level:\", Nmax, \", Precision:\", abs((val - val_t) / val), \", time:\", time\n",
      "    print val \n",
      "    print val_spline\n",
      "    print val_t"
     ],
     "language": "python",
     "metadata": {},
     "outputs": []
    },
    {
     "cell_type": "code",
     "collapsed": false,
     "input": [
      "test(20, 4, math.sqrt(2) + .00001, .02)"
     ],
     "language": "python",
     "metadata": {},
     "outputs": []
    },
    {
     "cell_type": "code",
     "collapsed": false,
     "input": [
      "\"\"\" We check the lack of crossing symmetry of the four-point function if beta is not real. The s- and t-channel\n",
      "four-point functions are found to converge to different values when the precision increases. These values \n",
      "can be very large. \"\"\"\n",
      "\n",
      "Ps = [.7, 1.37, -1.5, .17]\n",
      "#beta = math.sqrt(2) - 1 + .27*1j\n",
      "beta = cmath.exp(1j)\n",
      "\n",
      "def test(Ucutoff, Nmax): \n",
      "    import time\n",
      "    time0 = time.clock()\n",
      "    val = Z4(Ps = Ps, beta = beta, Ucutoff = Ucutoff, Nmax = Nmax).value()\n",
      "    val_t = Z4(t_channel = True, Ps = Ps, beta = beta, Ucutoff = Ucutoff, Nmax = Nmax).value()\n",
      "    time = time.clock() - time0\n",
      "    print \"Upsilon cutoff:\", Ucutoff, \", Block level:\", Nmax, \", time:\", time\n",
      "    print \"Values: \", val, val_t\n",
      "    \n",
      "test(20, 4)\n",
      "test(40, 4)\n",
      "test(80, 4)"
     ],
     "language": "python",
     "metadata": {},
     "outputs": []
    },
    {
     "cell_type": "code",
     "collapsed": false,
     "input": [
      "\"\"\"We check that in the correlation function of the GMM cannot be obtained as a limit of the c<1 \n",
      "Lioville one. In order to compare the results, we have to take account a different normalization N(P_i, b)\n",
      " coming from the definition of the structure constantes by setting the normalization \n",
      " of the Liouville function such that it coincided with the GMM correlation function in one point \n",
      " (say x=0.4). The functions are then compared in a different point (at x=0.2 in the exemple below)\"\"\"\n",
      "\n",
      "cc = Charge('b',1j*(cmath.sqrt(6.0/5)+cmath.sqrt(1.0/(2**34-1))))\n",
      "c = cc.get('c')\n",
      "print 'central charge=%.4f +%.4f 1j'%(c.real,c.imag)\n",
      "P1 = Dimension('degenerate',[3,3],cc).get('P')\n",
      "P2 = Dimension('degenerate',[3,3],cc).get('P')\n",
      "field1= Dimension('degenerate',[3,3],cc)\n",
      "field2= Dimension('degenerate',[3,3],cc)\n",
      "fields= [field1, field1, field2, field2]\n",
      "Ps = [P1,P1,P2,P2]\n",
      "comparing_position = 0.9\n",
      "q = mpmath.qfrom(m=comparing_position)\n",
      "for Ucut in [50,100]:\n",
      "    val = Z4(Ps = Ps,Ucutoff = Ucut, Nmax=8, beta= cc.get('beta'), epsilon=0.1).value(q).real\n",
      "    valnorm = Z4(Ps = Ps,Ucutoff = Ucut, Nmax=8, beta= cc.get('beta'), epsilon=0.1).value(mpmath.qfrom(m=0.4)).real\n",
      "    norm =GMM4(t_channel= False, fields = fields).value(mpmath.qfrom(m=0.4))/valnorm\n",
      "    print 'Liouv normalized function at x=%.1f (Upscuoff=%f) = %.6f' %(comparing_position,Ucut,norm*val.real)\n",
      "gmm = GMM4(t_channel= False, fields = fields).value(mpmath.qfrom(m=comparing_position)).real\n",
      "print ' GMM correlation function at x=%.1f= %.6f' %(comparing_position,gmm)\n",
      "\n"
     ],
     "language": "python",
     "metadata": {},
     "outputs": []
    },
    {
     "cell_type": "code",
     "collapsed": false,
     "input": [
      "\"\"\" We look at the convergence of the s-channel four-point function when c -> 1. We find \n",
      "that the limit exists. \"\"\"\n",
      "\n",
      "Ps = [.7, 1.37, -1.5, .17]\n",
      "Ucutoff = 20\n",
      "Nmax = 4\n",
      "def testlim(Ucutoff, Nmax, dist):\n",
      "    print Ucutoff, Nmax, dist\n",
      "    print Z4(Ps = Ps, beta = 1 + dist, Ucutoff = Ucutoff, Nmax = Nmax).value()"
     ],
     "language": "python",
     "metadata": {},
     "outputs": []
    },
    {
     "cell_type": "code",
     "collapsed": false,
     "input": [
      "testlim(40, 6, .0001)\n",
      "testlim(80, 8, .0001)\n",
      "testlim(40, 6, .00001)\n",
      "testlim(80, 8, .00001)"
     ],
     "language": "python",
     "metadata": {},
     "outputs": []
    },
    {
     "cell_type": "code",
     "collapsed": false,
     "input": [
      "epsilon = 10**(-5)\n",
      "for N in range(6, 16, 2):\n",
      "    testlim(80, N, epsilon)"
     ],
     "language": "python",
     "metadata": {},
     "outputs": []
    },
    {
     "cell_type": "code",
     "collapsed": false,
     "input": [
      "testlim(160, 8, .00001)\n",
      "testlim(80, 10, .00001)"
     ],
     "language": "python",
     "metadata": {},
     "outputs": []
    },
    {
     "cell_type": "heading",
     "level": 2,
     "metadata": {},
     "source": [
      "CFT with rational central charge"
     ]
    },
    {
     "cell_type": "code",
     "collapsed": false,
     "input": [
      "\"\"\" Let us test crossing symmetry. \"\"\"\n",
      "charge1 = Charge('minimal', [2, 3])\n",
      "charge2 = Charge('minimal', [3, 3])\n",
      "charge3 = Charge('minimal', [4, 3])\n",
      "Ps1 = [-.32, .09, .48, .16]\n",
      "\n",
      "def test(full = True, **kwargs):\n",
      "    s_channel = R4(**kwargs)\n",
      "    t_channel = R4(t_channel = True, **kwargs)\n",
      "    s_channel.value()\n",
      "    t_channel.value()\n",
      "    if full:\n",
      "        print kwargs\n",
      "        print s_channel.smooth_int.real, t_channel.smooth_int.real\n",
      "        print s_channel.xor_int.real, t_channel.xor_int.real\n",
      "        print s_channel.intersection_int.real, t_channel.intersection_int.real\n",
      "        return [s_channel.xor_int.real, t_channel.xor_int.real]"
     ],
     "language": "python",
     "metadata": {},
     "outputs": []
    },
    {
     "cell_type": "code",
     "collapsed": false,
     "input": [
      "test(Ps = Ps1)\n",
      "test()\n",
      "test(charge = charge3)\n",
      "test(Ps = Ps1, charge = charge3)\n",
      "test(charge = charge1)\n",
      "test(Ps = Ps1, charge = charge1)"
     ],
     "language": "python",
     "metadata": {},
     "outputs": []
    },
    {
     "cell_type": "code",
     "collapsed": false,
     "input": [
      "test(charge = charge2)\n",
      "test(charge = charge2, Ps = Ps1)"
     ],
     "language": "python",
     "metadata": {},
     "outputs": []
    },
    {
     "cell_type": "code",
     "collapsed": false,
     "input": [
      "for i in range(40):\n",
      "    P0 = .11\n",
      "    P = .1951 + i * 0.003\n",
      "    Ps = [.2, P0, .221, P]\n",
      "    test(charge = charge1, Ps = Ps)"
     ],
     "language": "python",
     "metadata": {},
     "outputs": []
    },
    {
     "cell_type": "code",
     "collapsed": false,
     "input": [
      "s_vals = []\n",
      "t_vals = []\n",
      "P_vals = []\n",
      "\n",
      "for i in range(40):\n",
      "    P0 = .11\n",
      "    P = .1951 + i * 0.0007031\n",
      "    Ps = [.2, P0, .221, P]\n",
      "    t = test(eta = .000001274, charge = charge1, Ps = Ps)\n",
      "    P_vals.append(P)\n",
      "    s_vals.append(t[0])\n",
      "    t_vals.append(t[1])"
     ],
     "language": "python",
     "metadata": {},
     "outputs": []
    },
    {
     "cell_type": "code",
     "collapsed": false,
     "input": [
      "import matplotlib.pyplot as plt\n",
      "plt.ylim((.29, .42))\n",
      "plt.plot(P_vals, s_vals, 'r', P_vals, t_vals, 'b')\n",
      "plt.show()"
     ],
     "language": "python",
     "metadata": {},
     "outputs": []
    },
    {
     "cell_type": "code",
     "collapsed": false,
     "input": [
      "from random import random\n",
      "def test2(Ps):\n",
      "    charge = Charge('minimal', [1, 1])\n",
      "    Pcutoff = 2.3\n",
      "    s_channel = R4(Ps = Ps, charge = charge, Pcutoff = Pcutoff)\n",
      "    t_channel = R4(t_channel = True, Ps = Ps, charge = charge, Pcutoff = Pcutoff)\n",
      "    s_channel.value()\n",
      "    t_channel.value()\n",
      "    print map(lambda x: '{:.3f}'.format(x), Ps)\n",
      "    print s_channel.xor_int.real, t_channel.xor_int.real"
     ],
     "language": "python",
     "metadata": {},
     "outputs": []
    },
    {
     "cell_type": "code",
     "collapsed": false,
     "input": [
      "for i in range(10):\n",
      "    Ps = [random()/2 for i in range(4)]\n",
      "    test2(Ps)"
     ],
     "language": "python",
     "metadata": {},
     "outputs": []
    },
    {
     "cell_type": "heading",
     "level": 1,
     "metadata": {},
     "source": [
      "Rational central charge limit of Liouville theory"
     ]
    },
    {
     "cell_type": "code",
     "collapsed": false,
     "input": [
      "# Last reasonable data: c = .5 + .1 * 1j\n",
      "\n",
      "\"\"\" We choose several values of c, the four momentums, and the cross-ratio x. We also choose Nmax. \"\"\"\n",
      "c5s = [.5 + 3.1**(-i)*1j for i in range(8)]\n",
      "P5s = [1.3, 1.01, .45, .22]\n",
      "x5 = 0.26\n",
      "Nmax5 = 4\n",
      "\n",
      "\"\"\" We compute the four-point functions in both channels. \"\"\"\n",
      "b5s = [complex(Charge('c', c).get('b')) for c in c5s]\n",
      "data5s = []\n",
      "for b in b5s:\n",
      "    print 'b =' , b\n",
      "    data5s.append(Data(theory = 'Liouville', b = b, Ps = P5s, x = [x5], Nmax = Nmax5, Pcutoff = 3))"
     ],
     "language": "python",
     "metadata": {},
     "outputs": []
    },
    {
     "cell_type": "code",
     "collapsed": false,
     "input": [
      "\"\"\" We display the results. Correlation functions can be complex: we display the real parts, but the relative\n",
      "difference between the channels is computed from the complex values. \"\"\"\n",
      "table5 = Table(data5s, parameter_values = c5s, parameter = 'c', digits = 5)\n",
      "table5.display()\n",
      "\n",
      "\"\"\" For use in the article, we print the Latex source of the table, without computation times. \"\"\"\n",
      "print Table(data5s, parameter_values = c5s, parameter = 'c', digits = 5, time = False).tables[0][0]"
     ],
     "language": "python",
     "metadata": {},
     "outputs": []
    }
   ],
   "metadata": {}
  }
 ]
}
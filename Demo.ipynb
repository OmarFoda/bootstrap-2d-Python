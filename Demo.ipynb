{
 "metadata": {
  "name": "",
  "signature": "sha256:9bc2dcdf8c2c4c183ad4160a18c36ac097314b49c18e31cf1d3a8d1b8ae0ac63"
 },
 "nbformat": 3,
 "nbformat_minor": 0,
 "worksheets": [
  {
   "cells": [
    {
     "cell_type": "code",
     "collapsed": false,
     "input": [
      "from CFT import *\n",
      "from Data import *\n",
      "import math\n",
      "from IPython.display import display, Math"
     ],
     "language": "python",
     "metadata": {},
     "outputs": []
    },
    {
     "cell_type": "heading",
     "level": 1,
     "metadata": {},
     "source": [
      "Testing crossing symmetry in Liouville theory"
     ]
    },
    {
     "cell_type": "markdown",
     "metadata": {},
     "source": [
      "The $s$-channel decomposition of a four-point function is \n",
      "$$\n",
      "\\left\\langle \\prod_{i=1}^4 V_{\\Delta_i}(z_i) \\right\\rangle = \\sum_\\Delta C_{\\Delta_1, \\Delta_2, \\Delta} C_{\\Delta_3, \\Delta_4, \\Delta} \\mathcal{G}^{(s)}_\\Delta(\\Delta_i|z_i)\n",
      "$$\n",
      "We want to compare this with the $t$-channel decomposition of the same quantity,\n",
      "$$\n",
      " \\left\\langle \\prod_{i=1}^4 V_{\\Delta_i}(z_i) \\right\\rangle = \\sum_\\Delta C_{\\Delta_2, \\Delta_3, \\Delta} C_{\\Delta_1, \\Delta_4, \\Delta} \\mathcal{G}^{(t)}_\\Delta(\\Delta_i|z_i)\n",
      "$$"
     ]
    },
    {
     "cell_type": "heading",
     "level": 2,
     "metadata": {},
     "source": [
      "Central charge $c > 25$"
     ]
    },
    {
     "cell_type": "markdown",
     "metadata": {},
     "source": [
      "We will choose an arbitrary value of the central charge by setting\n",
      "$$\n",
      "b = \\sqrt{3} - 1\n",
      "$$\n",
      "We choose arbitrary conformal dimensions by setting\n",
      "$$\n",
      "P_i = [1.3, 1.01, .45, .22]\n",
      "$$"
     ]
    },
    {
     "cell_type": "code",
     "collapsed": false,
     "input": [
      "b0 = math.sqrt(3) - 1\n",
      "\n",
      "charge = Charge('b', b0)\n",
      "\n",
      "c = float(charge.get('c'))\n",
      "\n",
      "display(Math(('c_0=' + '{:.2f}'.format(c))))\n",
      "\n",
      "Ps = [1.3, 1.01, .45, .22]\n",
      "\n",
      "Deltas = map(lambda x: float('{:.3f}'.format(x)), \n",
      "             [float(Dimension('P', P, charge).get('Delta')) for P in Ps])\n",
      "\n",
      "display(Math(r'\\Delta_i =' + str(Deltas)))"
     ],
     "language": "python",
     "metadata": {},
     "outputs": []
    },
    {
     "cell_type": "markdown",
     "metadata": {},
     "source": [
      "Let us compute the Liouville four-point function with different truncation levels for the Zamolodchikov recursion."
     ]
    },
    {
     "cell_type": "code",
     "collapsed": false,
     "input": [
      "data0 = Data(theory = 'Liouville', b = b0, Ps = Ps, Nmax = [0, 2, 4, 6], Pcutoff = 3, spline = 60)"
     ],
     "language": "python",
     "metadata": {},
     "outputs": []
    },
    {
     "cell_type": "code",
     "collapsed": false,
     "input": [
      "Table(data0, digits = 3).display()"
     ],
     "language": "python",
     "metadata": {},
     "outputs": []
    },
    {
     "cell_type": "heading",
     "level": 2,
     "metadata": {},
     "source": [
      "Other values of the central charge"
     ]
    },
    {
     "cell_type": "markdown",
     "metadata": {},
     "source": [
      "We now consider central charges $c_1 = 8.34 \\in (1, 25)$ and $c_2 = 2 + 3i$."
     ]
    },
    {
     "cell_type": "code",
     "collapsed": false,
     "input": [
      "c1 = 8.34\n",
      "\n",
      "c2 = 2 + 3*1j\n",
      "\n",
      "charges = [Charge('c', c) for c in [c1, c2]]\n",
      "\n",
      "bs = [complex(charge.get('b')) for charge in charges]\n",
      "\n",
      "datas = [Data(theory = 'Liouville', b = b, Ps = Ps, Nmax = [0, 2, 4, 6], \n",
      "              Pcutoff = 3, spline = 60) for b in bs]"
     ],
     "language": "python",
     "metadata": {},
     "outputs": []
    },
    {
     "cell_type": "code",
     "collapsed": false,
     "input": [
      "display(Math('c_1 = ' + str(c1)))\n",
      "\n",
      "Table(datas[0], digits = 4).display()\n",
      "\n",
      "display(Math('c_2 = ' + str(c2).replace('(', '').replace(')', '').replace('j', 'i')))\n",
      "\n",
      "Table(datas[1], digits = 6).display()"
     ],
     "language": "python",
     "metadata": {},
     "outputs": []
    },
    {
     "cell_type": "heading",
     "level": 1,
     "metadata": {},
     "source": [
      "Liouville theory with $c < 1$"
     ]
    },
    {
     "cell_type": "markdown",
     "metadata": {},
     "source": [
      "Let us consider $c_3 = -1.4645$."
     ]
    },
    {
     "cell_type": "code",
     "collapsed": false,
     "input": [
      "c3 = -1.4645\n",
      "\n",
      "b3 = float(Charge('c', c3).get('beta'))\n",
      "\n",
      "Ps = [1.3, 1.01, .45, .22]\n",
      "\n",
      "data3 = Data(theory = 'Analytic', beta = b3, Ps = Ps, Ucutoff = 12,\n",
      "             Nmax = [0, 2, 4, 6, 8], Pcutoff = 3, spline = 60)"
     ],
     "language": "python",
     "metadata": {},
     "outputs": []
    },
    {
     "cell_type": "code",
     "collapsed": false,
     "input": [
      "Table(data3).display()"
     ],
     "language": "python",
     "metadata": {},
     "outputs": []
    },
    {
     "cell_type": "heading",
     "level": 1,
     "metadata": {},
     "source": [
      "Dependence on $x$"
     ]
    },
    {
     "cell_type": "markdown",
     "metadata": {},
     "source": [
      "Let us come back to Liouville theory with $c>25$ and draw the dependence on $x$."
     ]
    },
    {
     "cell_type": "code",
     "collapsed": false,
     "input": [
      "N = 20\n",
      "\n",
      "xs = [i*1.0/N for i in range(1, N)]\n",
      "\n",
      "Ps = [1.3, 1.01, .45, .22]\n",
      "\n",
      "Pcutoff = 3\n",
      "\n",
      "spline = 30\n",
      "\n",
      "b4 = 1.3579\n",
      "\n",
      "data4 = Data(spline = spline, x = xs, b = b4, Ps = Ps, Pcutoff = Pcutoff, \n",
      "              Nmax = [0, 2, 4], reduced = True)"
     ],
     "language": "python",
     "metadata": {},
     "outputs": []
    },
    {
     "cell_type": "code",
     "collapsed": false,
     "input": [
      "graph = Graph(data4, Nmax = [0, 2])\n",
      "\n",
      "graph.show()"
     ],
     "language": "python",
     "metadata": {},
     "outputs": []
    },
    {
     "cell_type": "code",
     "collapsed": false,
     "input": [],
     "language": "python",
     "metadata": {},
     "outputs": []
    }
   ],
   "metadata": {}
  }
 ]
}